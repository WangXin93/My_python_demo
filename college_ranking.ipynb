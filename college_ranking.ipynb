{
 "cells": [
  {
   "cell_type": "markdown",
   "metadata": {},
   "source": [
    "## 中国最好大学排名定向爬虫"
   ]
  },
  {
   "cell_type": "code",
   "execution_count": 13,
   "metadata": {
    "collapsed": true
   },
   "outputs": [],
   "source": [
    "import requests\n",
    "import bs4\n",
    "from bs4 import BeautifulSoup"
   ]
  },
  {
   "cell_type": "code",
   "execution_count": 14,
   "metadata": {
    "collapsed": true
   },
   "outputs": [],
   "source": [
    "url = 'http://www.zuihaodaxue.cn/zuihaodaxuepaiming2016.html'"
   ]
  },
  {
   "cell_type": "code",
   "execution_count": 48,
   "metadata": {
    "collapsed": true
   },
   "outputs": [],
   "source": [
    "def getHTMLText(url):\n",
    "    try:\n",
    "        r = requests.get(url)\n",
    "        r.raise_for_status()\n",
    "        r.encoding = 'utf-8'\n",
    "        return r.text\n",
    "    except:\n",
    "        return \"\""
   ]
  },
  {
   "cell_type": "code",
   "execution_count": 70,
   "metadata": {
    "collapsed": true
   },
   "outputs": [],
   "source": [
    "def fillUnivList(ulist, html):\n",
    "    soup = BeautifulSoup(html, 'html.parser')\n",
    "    for tr in soup.find('tbody').children:\n",
    "        if isinstance(tr, bs4.element.Tag):\n",
    "            tds = tr('td')\n",
    "            ulist.append([tds[0].string, tds[1].string, tds[2].string, tds[3].string])"
   ]
  },
  {
   "cell_type": "code",
   "execution_count": 93,
   "metadata": {},
   "outputs": [],
   "source": [
    "def printUnivList(ulist, num):\n",
    "    tplt = \"{0:^10}\\t{1:{4}^10}\\t{2:^10}\\t{3:^10}\"\n",
    "    print(tplt.format(\"排名\",\"学校\",\"省份\",\"总分\",chr(12288)))\n",
    "    for i in range(num):\n",
    "        u = ulist[i]\n",
    "        print(tplt.format(u[0],u[1],u[2],u[3],chr(12288)))"
   ]
  },
  {
   "cell_type": "code",
   "execution_count": 94,
   "metadata": {
    "scrolled": true
   },
   "outputs": [
    {
     "name": "stdout",
     "output_type": "stream",
     "text": [
      "    排名    \t　　　　学校　　　　\t    省份    \t    总分    \n",
      "    1     \t　　　清华大学　　　\t   北京市    \t   95.9   \n",
      "    2     \t　　　北京大学　　　\t   北京市    \t   82.6   \n",
      "    3     \t　　　浙江大学　　　\t   浙江省    \t    80    \n",
      "    4     \t　　上海交通大学　　\t   上海市    \t   78.7   \n",
      "    5     \t　　　复旦大学　　　\t   上海市    \t   70.9   \n",
      "    6     \t　　　南京大学　　　\t   江苏省    \t   66.1   \n",
      "    7     \t　中国科学技术大学　\t   安徽省    \t   65.5   \n",
      "    8     \t　哈尔滨工业大学　　\t   黑龙江省   \t   63.5   \n",
      "    9     \t　　华中科技大学　　\t   湖北省    \t   62.9   \n",
      "    10    \t　　　中山大学　　　\t   广东省    \t   62.1   \n",
      "    11    \t　　　东南大学　　　\t   江苏省    \t   61.4   \n",
      "    12    \t　　　天津大学　　　\t   天津市    \t   60.8   \n",
      "    13    \t　　　同济大学　　　\t   上海市    \t   59.8   \n",
      "    14    \t　北京航空航天大学　\t   北京市    \t   59.6   \n",
      "    15    \t　　　四川大学　　　\t   四川省    \t   59.4   \n",
      "    16    \t　　　武汉大学　　　\t   湖北省    \t   59.1   \n",
      "    17    \t　　西安交通大学　　\t   陕西省    \t   58.9   \n",
      "    18    \t　　　南开大学　　　\t   天津市    \t   58.3   \n",
      "    19    \t　　大连理工大学　　\t   辽宁省    \t   56.9   \n",
      "    20    \t　　　山东大学　　　\t   山东省    \t   56.3   \n",
      "    21    \t　　华南理工大学　　\t   广东省    \t   56.2   \n",
      "    22    \t　　　吉林大学　　　\t   吉林省    \t   55.7   \n",
      "    23    \t　　　厦门大学　　　\t   福建省    \t   55.4   \n",
      "    24    \t　　北京师范大学　　\t   北京市    \t   54.6   \n",
      "    25    \t　　北京理工大学　　\t   北京市    \t   53.9   \n",
      "    26    \t　　　苏州大学　　　\t   江苏省    \t   53.1   \n",
      "    27    \t　　　中南大学　　　\t   湖南省    \t   52.5   \n",
      "    28    \t　　北京科技大学　　\t   北京市    \t   52.2   \n",
      "    29    \t　南京航空航天大学　\t   江苏省    \t    52    \n",
      "    30    \t　　华东理工大学　　\t   上海市    \t   51.9   \n",
      "    31    \t　　　湖南大学　　　\t   湖南省    \t   51.4   \n",
      "    31    \t　　中国人民大学　　\t   北京市    \t   51.4   \n",
      "    33    \t　　　重庆大学　　　\t   重庆市    \t   50.9   \n",
      "    34    \t　　华东师范大学　　\t   上海市    \t   50.6   \n",
      "    35    \t中国地质大学（武汉）\t   湖北省    \t   50.4   \n",
      "    36    \t　　西北工业大学　　\t   陕西省    \t   50.3   \n",
      "    36    \t　　电子科技大学　　\t   四川省    \t   50.3   \n",
      "    38    \t　　中国农业大学　　\t   北京市    \t   48.9   \n",
      "    38    \t中国石油大学（北京）\t   北京市    \t   48.9   \n",
      "    40    \t　　北京化工大学　　\t   北京市    \t   48.6   \n",
      "    40    \t　　北京交通大学　　\t   北京市    \t   48.6   \n",
      "    42    \t　　南京理工大学　　\t   江苏省    \t   48.5   \n",
      "    43    \t华北电力大学（北京）\t   北京市    \t   48.2   \n",
      "    44    \t　　北京邮电大学　　\t   北京市    \t   48.1   \n",
      "    45    \t　西安电子科技大学　\t   陕西省    \t   47.6   \n",
      "    46    \t　　武汉理工大学　　\t   湖北省    \t   47.4   \n",
      "    46    \t　　　上海大学　　　\t   上海市    \t   47.4   \n",
      "    48    \t　　华中师范大学　　\t   湖北省    \t   47.3   \n",
      "    48    \t　　　东北大学　　　\t   辽宁省    \t   47.3   \n",
      "    50    \t　　东北师范大学　　\t   吉林省    \t   47.1   \n",
      "    51    \t　　　东华大学　　　\t   上海市    \t    47    \n",
      "    52    \t　　　福州大学　　　\t   福建省    \t   46.7   \n",
      "    53    \t　　首都医科大学　　\t   北京市    \t   46.5   \n",
      "    53    \t　　　兰州大学　　　\t   甘肃省    \t   46.5   \n",
      "    55    \t　　　江南大学　　　\t   江苏省    \t   46.3   \n",
      "    56    \t　　合肥工业大学　　\t   安徽省    \t   45.6   \n",
      "    57    \t　　南京医科大学　　\t   江苏省    \t   45.5   \n",
      "    58    \t　　中国海洋大学　　\t   山东省    \t   45.3   \n",
      "    59    \t　　中国矿业大学　　\t   江苏省    \t   45.2   \n",
      "    60    \t　　　暨南大学　　　\t   广东省    \t   44.6   \n",
      "    61    \t　　　西南大学　　　\t   重庆市    \t   44.4   \n",
      "    62    \t　　南京农业大学　　\t   江苏省    \t   44.3   \n",
      "    62    \t　　　河海大学　　　\t   江苏省    \t   44.3   \n",
      "    64    \t　哈尔滨工程大学　　\t   黑龙江省   \t   44.2   \n",
      "    65    \t　　华中农业大学　　\t   湖北省    \t    44    \n",
      "    66    \t　　中国药科大学　　\t   江苏省    \t   43.7   \n",
      "    67    \t　　西南交通大学　　\t   四川省    \t   43.6   \n",
      "    68    \t　　天津医科大学　　\t   天津市    \t   43.3   \n",
      "    69    \t　西北农林科技大学　\t   陕西省    \t   42.8   \n",
      "    69    \t　　南京师范大学　　\t   江苏省    \t   42.8   \n",
      "    71    \t　　　西北大学　　　\t   陕西省    \t   42.5   \n",
      "    72    \t　　　江苏大学　　　\t   江苏省    \t   42.3   \n",
      "    73    \t　　浙江工业大学　　\t   浙江省    \t   42.1   \n",
      "    74    \t　　北京林业大学　　\t   北京市    \t    42    \n",
      "    75    \t　　南京邮电大学　　\t   江苏省    \t   41.9   \n",
      "    75    \t　　南方医科大学　　\t   广东省    \t   41.9   \n",
      "    75    \t　　陕西师范大学　　\t   陕西省    \t   41.9   \n",
      "    75    \t　　南京工业大学　　\t   江苏省    \t   41.9   \n",
      "    79    \t　　北京工业大学　　\t   北京市    \t   41.8   \n",
      "    80    \t　　　燕山大学　　　\t   河北省    \t   41.5   \n",
      "    81    \t　　华南师范大学　　\t   广东省    \t   41.4   \n",
      "    82    \t　　河北工业大学　　\t   河北省    \t   41.1   \n",
      "    83    \t　北京中医药大学　　\t   北京市    \t    41    \n",
      "    83    \t　　浙江师范大学　　\t   浙江省    \t    41    \n",
      "    83    \t　　　汕头大学　　　\t   广东省    \t    41    \n",
      "    86    \t　　　长安大学　　　\t   陕西省    \t   40.9   \n",
      "    87    \t　　沈阳药科大学　　\t   辽宁省    \t   40.8   \n",
      "    87    \t　　　湘潭大学　　　\t   湖南省    \t   40.8   \n",
      "    89    \t　　大连海事大学　　\t   辽宁省    \t   40.6   \n",
      "    90    \t　　浙江理工大学　　\t   浙江省    \t   40.5   \n",
      "    91    \t　　杭州师范大学　　\t   浙江省    \t   40.4   \n",
      "    91    \t　　大连医科大学　　\t   辽宁省    \t   40.4   \n",
      "    93    \t　　　河北大学　　　\t   河北省    \t   40.3   \n",
      "    94    \t　杭州电子科技大学　\t   浙江省    \t   40.2   \n",
      "    94    \t　　中央民族大学　　\t   北京市    \t   40.2   \n",
      "    96    \t　　　安徽大学　　　\t   安徽省    \t    40    \n",
      "    97    \t　　　山西大学　　　\t   山西省    \t   39.4   \n",
      "    97    \t　　　宁波大学　　　\t   浙江省    \t   39.4   \n",
      "    97    \t　石家庄铁道大学　　\t   河北省    \t   39.4   \n",
      "   100    \t　　　扬州大学　　　\t   江苏省    \t   39.3   \n"
     ]
    }
   ],
   "source": [
    "uinfo = []\n",
    "url = 'http://www.zuihaodaxue.cn/zuihaodaxuepaiming2016.html'\n",
    "html = getHTMLText(url)\n",
    "fillUnivList(uinfo, html)\n",
    "printUnivList(uinfo, 100)"
   ]
  },
  {
   "cell_type": "code",
   "execution_count": 59,
   "metadata": {},
   "outputs": [
    {
     "name": "stdout",
     "output_type": "stream",
     "text": [
      "['51', '东华大学', '上海市']\n"
     ]
    }
   ],
   "source": [
    "for i in uinfo:\n",
    "    if i[1] == '东华大学':\n",
    "        print(i)"
   ]
  }
 ],
 "metadata": {
  "kernelspec": {
   "display_name": "Python 3",
   "language": "python",
   "name": "python3"
  },
  "language_info": {
   "codemirror_mode": {
    "name": "ipython",
    "version": 3
   },
   "file_extension": ".py",
   "mimetype": "text/x-python",
   "name": "python",
   "nbconvert_exporter": "python",
   "pygments_lexer": "ipython3",
   "version": "3.6.1"
  }
 },
 "nbformat": 4,
 "nbformat_minor": 2
}
