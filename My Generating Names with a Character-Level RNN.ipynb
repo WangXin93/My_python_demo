{
 "cells": [
  {
   "cell_type": "markdown",
   "metadata": {},
   "source": [
    "# Prepare data"
   ]
  },
  {
   "cell_type": "code",
   "execution_count": 5,
   "metadata": {},
   "outputs": [
    {
     "name": "stdout",
     "output_type": "stream",
     "text": [
      "# categories: 18 ['Arabic', 'Chinese', 'Czech', 'Dutch', 'English', 'French', 'German', 'Greek', 'Irish', 'Italian', 'Japanese', 'Korean', 'Polish', 'Portuguese', 'Russian', 'Scottish', 'Spanish', 'Vietnamese']\n",
      "O'Neal\n"
     ]
    }
   ],
   "source": [
    "# Dataset\n",
    "# https://download.pytorch.org/tutorial/data.zip\n",
    "from __future__ import unicode_literals, print_function, division\n",
    "from io import open\n",
    "import glob\n",
    "import os\n",
    "import unicodedata\n",
    "import string\n",
    "\n",
    "all_letters = string.ascii_letters + \" .,;'-\"\n",
    "n_letters = len(all_letters) + 1 # Plus EOS marker\n",
    "\n",
    "def findFiles(path): return glob.glob(path)\n",
    "\n",
    "# Turn a Unicode string to plain ASCII, thanks to http://stackoverflow.com/a/518232/2809427\n",
    "def unicodeToAscii(s):\n",
    "    return ''.join(\n",
    "        c for c in unicodedata.normalize('NFD', s)\n",
    "        if unicodedata.category(c) != 'Mn'\n",
    "        and c in all_letters\n",
    "    )\n",
    "\n",
    "# Read a file and split into lines\n",
    "def readLines(filename):\n",
    "    lines = open(filename, encoding='utf-8').read().strip().split('\\n')\n",
    "    return [unicodeToAscii(line) for line in lines]\n",
    "\n",
    "# Build the category_lines dictionary, a list of lines per category\n",
    "category_lines = {}\n",
    "all_categories = []\n",
    "for filename in findFiles('data/names/*.txt'):\n",
    "    category = os.path.splitext(os.path.basename(filename))[0]\n",
    "    all_categories.append(category)\n",
    "    lines = readLines(filename)\n",
    "    category_lines[category] = lines\n",
    "\n",
    "n_categories = len(all_categories)\n",
    "\n",
    "if n_categories == 0:\n",
    "    raise RuntimeError('Data not found. Make sure that you downloaded data '\n",
    "        'from https://download.pytorch.org/tutorial/data.zip and extract it to '\n",
    "        'the current directory.')\n",
    "\n",
    "print('# categories:', n_categories, all_categories)\n",
    "print(unicodeToAscii(\"O'Néàl\"))"
   ]
  },
  {
   "cell_type": "markdown",
   "metadata": {},
   "source": [
    "# Prepare Dataset Input"
   ]
  },
  {
   "cell_type": "code",
   "execution_count": 6,
   "metadata": {},
   "outputs": [],
   "source": [
    "import torch\n",
    "import torch.nn as nn"
   ]
  },
  {
   "cell_type": "code",
   "execution_count": 7,
   "metadata": {},
   "outputs": [],
   "source": [
    "import random\n",
    "\n",
    "# Random item from a list\n",
    "def randomChoice(l):\n",
    "    return l[random.randint(0, len(l) - 1)]\n",
    "\n",
    "# Get a random category and random line from that category\n",
    "def randomTrainingPair():\n",
    "    category = randomChoice(all_categories)\n",
    "    line = randomChoice(category_lines[category])\n",
    "    return category, line"
   ]
  },
  {
   "cell_type": "code",
   "execution_count": 8,
   "metadata": {},
   "outputs": [],
   "source": [
    "# One-hot vector for category\n",
    "def categoryTensor(category):\n",
    "    li = all_categories.index(category)\n",
    "    tensor = torch.zeros(1, n_categories)\n",
    "    tensor[0][li] = 1\n",
    "    return tensor\n",
    "\n",
    "# One-hot matrix of first to last letters (not including EOS) for input\n",
    "def inputTensor(line):\n",
    "    tensor = torch.zeros(len(line), 1, n_letters)\n",
    "    for li in range(len(line)):\n",
    "        letter = line[li]\n",
    "        tensor[li][0][all_letters.find(letter)] = 1\n",
    "    return tensor\n",
    "\n",
    "# LongTensor of second letter to end (EOS) for target\n",
    "def targetTensor(line):\n",
    "    letter_indexes = [all_letters.find(line[li]) for li in range(1, len(line))]\n",
    "    letter_indexes.append(n_letters - 1) # EOS\n",
    "    return torch.LongTensor(letter_indexes)"
   ]
  },
  {
   "cell_type": "code",
   "execution_count": 9,
   "metadata": {},
   "outputs": [],
   "source": [
    "# Make category, input, and target tensors from a random category, line pair\n",
    "def randomTrainingExample():\n",
    "    category, line = randomTrainingPair()\n",
    "    category_tensor = categoryTensor(category)\n",
    "    input_line_tensor = inputTensor(line)\n",
    "    target_line_tensor = targetTensor(line)\n",
    "    return category_tensor, input_line_tensor, target_line_tensor"
   ]
  },
  {
   "cell_type": "code",
   "execution_count": 11,
   "metadata": {},
   "outputs": [],
   "source": [
    "import time\n",
    "import math\n",
    "\n",
    "def timeSince(since):\n",
    "    now = time.time()\n",
    "    s = now - since\n",
    "    m = math.floor(s / 60)\n",
    "    s -= m * 60\n",
    "    return '%dm %ds' % (m, s)"
   ]
  },
  {
   "cell_type": "code",
   "execution_count": 12,
   "metadata": {},
   "outputs": [
    {
     "name": "stdout",
     "output_type": "stream",
     "text": [
      "torch.Size([193, 77])\n",
      "torch.Size([193])\n"
     ]
    }
   ],
   "source": [
    "import torch.nn.utils.rnn as rnn_utils\n",
    "\n",
    "device = torch.device('cuda:1')\n",
    "\n",
    "def generate_batch(batch_size=32, device=device):\n",
    "    \"\"\"Generate batch input data into device(cpu or cuda).\"\"\"\n",
    "    input_tensors = []\n",
    "    target_tensors = []\n",
    "    for _ in range(batch_size):\n",
    "        category_tensor, input_line_tensor, target_line_tensor = randomTrainingExample()\n",
    "        category_tensors = torch.stack([category_tensor for _ in range(input_line_tensor.size(0))], 0)\n",
    "        input_tensor = torch.cat((category_tensors, input_line_tensor), 2).squeeze(1)\n",
    "        input_tensors.append(input_tensor)\n",
    "        target_tensors.append(target_line_tensor)\n",
    "    lengths = [len(i) for i in target_tensors]\n",
    "    \n",
    "    # pack data need sort with descending order\n",
    "    lengths = torch.tensor(lengths).to(device)\n",
    "    sorted_lengths, ids = lengths.sort(descending=True)\n",
    "\n",
    "    padded_input_tensors = rnn_utils.pad_sequence(input_tensors, batch_first=True).to(device)\n",
    "    padded_target_tensors = rnn_utils.pad_sequence(target_tensors, batch_first=True).to(device)\n",
    "    padded_input_tensors = padded_input_tensors[ids]\n",
    "    padded_target_tensors = padded_target_tensors[ids]\n",
    "    \n",
    "    # pack the sequence\n",
    "    input_data = rnn_utils.pack_padded_sequence(padded_input_tensors, sorted_lengths, batch_first=True)\n",
    "    target = rnn_utils.pack_padded_sequence(padded_target_tensors, sorted_lengths, batch_first=True)\n",
    "    return input_data, target\n",
    "\n",
    "input_data, target = generate_batch()\n",
    "print(input_data[0].shape)\n",
    "print(target[0].shape)"
   ]
  },
  {
   "cell_type": "markdown",
   "metadata": {},
   "source": [
    "# Create network"
   ]
  },
  {
   "cell_type": "code",
   "execution_count": 73,
   "metadata": {},
   "outputs": [
    {
     "name": "stdout",
     "output_type": "stream",
     "text": [
      "torch.Size([179, 59])\n"
     ]
    }
   ],
   "source": [
    "import numpy as np\n",
    "import torch.nn.functional as F\n",
    "\n",
    "class LSTMModel(nn.Module):\n",
    "    def __init__(self, input_size, hidden_size, output_size, device, n_layers=1, bidirectional=False):\n",
    "        super(LSTMModel, self).__init__()\n",
    "        self.input_size = input_size\n",
    "        self.hidden_size = hidden_size\n",
    "        self.output_size = output_size\n",
    "        self.device = device\n",
    "        self.n_layers = n_layers\n",
    "        self.n_directions = int(bidirectional) + 1\n",
    "        self.lstm = nn.LSTM(input_size, hidden_size, num_layers=n_layers, bidirectional=bidirectional)\n",
    "        self.dropout = nn.Dropout(p=0.1)\n",
    "        self.linear = nn.Linear(hidden_size, output_size)\n",
    "                 \n",
    "    def _init_hidden(self, batch_size):\n",
    "        h = torch.zeros(self.n_layers*self.n_directions, batch_size, self.hidden_size).to(self.device)\n",
    "        c = torch.zeros(self.n_layers*self.n_directions, batch_size, self.hidden_size).to(self.device)\n",
    "        return (h, c)\n",
    "        \n",
    "    def forward(self, input_data):\n",
    "        batch_size = input_data[1][0].item()\n",
    "        h, c = self._init_hidden(batch_size)\n",
    "        self.lstm.flatten_parameters()\n",
    "        output, hidden = self.lstm(input_data, (h, c))\n",
    "        o = self.linear(self.dropout(output[0]))\n",
    "        return o\n",
    "    \n",
    "    def sample(self, category='Chinese', start_letter='W', max_length=20):\n",
    "        batch_size = 1\n",
    "        h, c = self._init_hidden(batch_size)\n",
    "        category_tensor = categoryTensor(category)\n",
    "        input_tensor = inputTensor(start_letter)\n",
    "        category_tensor.unsqueeze_(dim=0)\n",
    "\n",
    "        output_name = start_letter\n",
    "        for l in range(max_length):\n",
    "            input_data = torch.cat((category_tensor, input_tensor), 2).to(self.device)\n",
    "            output, hidden = rnn.lstm(input_data)\n",
    "            logits = rnn.linear(output.squeeze(0))\n",
    "            probs = F.softmax(logits).cpu().detach().numpy()\n",
    "            next_letter_idx = np.random.choice(n_letters, 1, p=probs[0])[0]\n",
    "            if next_letter_idx == (n_letters-1):\n",
    "                return output_name\n",
    "            letter = all_letters[next_letter_idx]\n",
    "            output_name += letter\n",
    "            input_tensor = inputTensor(letter)\n",
    "        return output_name\n",
    "\n",
    "rnn = LSTMModel(77, 128, n_letters, device, bidirectional=False).to(device)\n",
    "output = rnn(input_data)\n",
    "print(output.shape)"
   ]
  },
  {
   "cell_type": "code",
   "execution_count": 41,
   "metadata": {},
   "outputs": [
    {
     "name": "stdout",
     "output_type": "stream",
     "text": [
      "0m 3s (500 5%) 3.3610\n",
      "0m 7s (1000 10%) 3.0293\n",
      "0m 11s (1500 15%) 2.7329\n",
      "0m 15s (2000 20%) 2.6086\n",
      "0m 19s (2500 25%) 2.6355\n",
      "0m 23s (3000 30%) 2.6084\n",
      "0m 27s (3500 35%) 2.5290\n",
      "0m 31s (4000 40%) 2.2579\n",
      "0m 34s (4500 45%) 2.4001\n",
      "0m 38s (5000 50%) 2.2273\n",
      "0m 42s (5500 55%) 2.2597\n",
      "0m 46s (6000 60%) 2.1635\n",
      "0m 50s (6500 65%) 2.1767\n",
      "0m 54s (7000 70%) 2.4054\n",
      "0m 58s (7500 75%) 2.0846\n",
      "1m 2s (8000 80%) 2.3101\n",
      "1m 6s (8500 85%) 2.2102\n",
      "1m 9s (9000 90%) 2.0667\n",
      "1m 13s (9500 95%) 1.9666\n",
      "1m 17s (10000 100%) 1.9207\n"
     ]
    }
   ],
   "source": [
    "rnn = LSTMModel(77, 128, n_letters, device, bidirectional=False).to(device)\n",
    "optimizer = torch.optim.Adam(rnn.parameters(), lr=5e-4)\n",
    "criterion = torch.nn.CrossEntropyLoss()\n",
    "\n",
    "n_iters = 10000\n",
    "print_every = 500\n",
    "plot_every = 50\n",
    "all_losses = []\n",
    "total_loss = 0 # Reset every plot_every iters\n",
    "\n",
    "start = time.time()\n",
    "\n",
    "for step in range(1, n_iters+1):\n",
    "    input_data, target = generate_batch()\n",
    "    input_data = input_data.to(device)\n",
    "    target = target.to(device)\n",
    "    output = rnn(input_data)\n",
    "    loss = criterion(output, target[0])\n",
    "    total_loss += loss.item()\n",
    "    loss.backward()\n",
    "#     optimizer.step()\n",
    "    for p in rnn.parameters():\n",
    "        p.data.add_(-5e-4, p.grad.data)\n",
    "    \n",
    "    if step % print_every == 0:\n",
    "        print('%s (%d %d%%) %.4f' % (timeSince(start), step, step / n_iters * 100, loss.item()))\n",
    "\n",
    "    if step % plot_every == 0:\n",
    "        all_losses.append(total_loss / plot_every)\n",
    "        total_loss = 0"
   ]
  },
  {
   "cell_type": "code",
   "execution_count": 42,
   "metadata": {},
   "outputs": [
    {
     "data": {
      "image/png": "[encoded data removed]",
      "text/plain": [
       "<Figure size 432x288 with 1 Axes>"
      ]
     },
     "metadata": {},
     "output_type": "display_data"
    }
   ],
   "source": [
    "%matplotlib inline\n",
    "import matplotlib.pyplot as plt\n",
    "import matplotlib.ticker as ticker\n",
    "\n",
    "plt.figure()\n",
    "plt.plot(all_losses)\n",
    "plt.show()"
   ]
  },
  {
   "cell_type": "markdown",
   "metadata": {},
   "source": [
    "# Sample the network"
   ]
  },
  {
   "cell_type": "code",
   "execution_count": 61,
   "metadata": {},
   "outputs": [
    {
     "name": "stdout",
     "output_type": "stream",
     "text": [
      "Russian, S, Sstshoneihaovskoparoi\n",
      "Russian, P, Palokishinihasstamala\n",
      "Russian, H, Hovadiaichirowinakoko\n",
      "German, S, Soriwa\n",
      "German, P, Pereitrerosseiriturer\n",
      "German, H, Heroueliersnselierime\n",
      "Spanish, S, Sonrelepaletiminaleri\n",
      "Spanish, P, Ponararierevananaonan\n",
      "Spanish, H, Herinasarisunasuezas\n",
      "Japanese, S, Shimenayomieriniro\n",
      "Japanese, P, Purigerohorila\n",
      "Japanese, H, Hetlalichierinarowao\n",
      "Chinese, S, Shl\n",
      "Chinese, P, Pe\n",
      "Chinese, H, He\n"
     ]
    },
    {
     "name": "stderr",
     "output_type": "stream",
     "text": [
      "/export/home/wangx/code/Siamese/.env/lib/python3.6/site-packages/ipykernel_launcher.py:42: UserWarning: Implicit dimension choice for softmax has been deprecated. Change the call to include dim=X as an argument.\n"
     ]
    }
   ],
   "source": [
    "for country in ['Russian', 'German', 'Spanish' , 'Japanese', 'Chinese']:\n",
    "    for start_letter in 'SPH':\n",
    "        print('{}, {}, {}'.format(country, start_letter, rnn.sample(category=country, start_letter=start_letter)))"
   ]
  }
 ],
 "metadata": {
  "kernelspec": {
   "display_name": "Python 3",
   "language": "python",
   "name": "python3"
  },
  "language_info": {
   "codemirror_mode": {
    "name": "ipython",
    "version": 3
   },
   "file_extension": ".py",
   "mimetype": "text/x-python",
   "name": "python",
   "nbconvert_exporter": "python",
   "pygments_lexer": "ipython3",
   "version": "3.6.5"
  }
 },
 "nbformat": 4,
 "nbformat_minor": 2
}
